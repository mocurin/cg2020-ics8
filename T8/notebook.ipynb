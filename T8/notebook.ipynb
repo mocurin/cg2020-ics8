{
 "cells": [
  {
   "cell_type": "code",
   "execution_count": 11,
   "metadata": {},
   "outputs": [
    {
     "name": "stdout",
     "output_type": "stream",
     "text": [
      "Overwriting obj2json.py\n"
     ]
    }
   ],
   "source": [
    "%%writefile obj2json.py\n",
    "import sys\n",
    "import os\n",
    "import json\n",
    "\n",
    "if __name__ == '__main__':\n",
    "    cmd, *args = sys.argv\n",
    "    if len(args) > 1: raise ValueError(f\"Got {' '.join(args)}, expected signle .obj file\")\n",
    "    path, ext = os.path.splitext(args[0])\n",
    "    if ext != '.obj': raise ValueError(f\"Got {ext}, expected signle .obj file\")\n",
    "    with open(obj, 'r') as file:\n",
    "        lines = list(file)\n",
    "        vertices = [list(map(float, line.split()[1:])) for line in lines if line[0] == 'v']\n",
    "        faces = [list(map(int, line.split()[1:])) for line in lines if line[0] == 'f']\n",
    "        with open(path + '.json', 'w') as jsfile:\n",
    "            jsfile.write(json.dumps({'v' : vertices, 'f': faces}))"
   ]
  },
  {
   "cell_type": "code",
   "execution_count": 12,
   "metadata": {},
   "outputs": [],
   "source": [
    "!python3 obj2json.py teapot.obj"
   ]
  }
 ],
 "metadata": {
  "kernelspec": {
   "display_name": "Python 3",
   "language": "python",
   "name": "python3"
  },
  "language_info": {
   "codemirror_mode": {
    "name": "ipython",
    "version": 3
   },
   "file_extension": ".py",
   "mimetype": "text/x-python",
   "name": "python",
   "nbconvert_exporter": "python",
   "pygments_lexer": "ipython3",
   "version": "3.6.9"
  }
 },
 "nbformat": 4,
 "nbformat_minor": 4
}
